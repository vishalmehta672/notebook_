{
  "metadata": {
    "kernelspec": {
      "name": "python",
      "display_name": "Python (Pyodide)",
      "language": "python"
    },
    "language_info": {
      "codemirror_mode": {
        "name": "python",
        "version": 3
      },
      "file_extension": ".py",
      "mimetype": "text/x-python",
      "name": "python",
      "nbconvert_exporter": "python",
      "pygments_lexer": "ipython3",
      "version": "3.8"
    },
    "widgets": {
      "application/vnd.jupyter.widget-state+json": {
        "version_major": 2,
        "version_minor": 0,
        "state": {}
      }
    }
  },
  "nbformat_minor": 4,
  "nbformat": 4,
  "cells": [
    {
      "cell_type": "markdown",
      "source": "__Status_code__ ",
      "metadata": {}
    },
    {
      "cell_type": "markdown",
      "source": "In Django REST Framework (DRF), which is a powerful and flexible toolkit for building Web APIs with Django, the HTTP status codes are used to communicate the result of API requests. While DRF uses a variety of HTTP status codes, some of the main ones you'll encounter are:\n\n\n# Successful - 2xx\n\n**HTTP_200_OK**:\nIndicates that the request was successful.\n\n**HTTP_201_CREATED**:\nUsed when a new resource is successfully created as a result of a POST request.\n\n**HTTP_202_ACCEPTED**:\nThis status code is generally used to indicate that the request has been accepted for processing but the processing has not been completed. It's often used in asynchronous processing scenarios\n\n**HTTP_204_NO_CONTENT**:\nIndicates that the server successfully processed the request, but there is no content to send in the response.\n\n**********************************************************************************************************************************************************\n# Client Error - 4xx\n\n**HTTP_400_BAD_REQUEST**:\nIndicates that the server could not understand the request, often due to malformed syntax or missing parameters.\n\n**HTTP_401_UNAUTHORIZED**:\nIndicates that authentication is required and has failed or has not been provided.\n\n**HTTP_402_PAYMENT_REQUIRED**:\nThis status code is reserved for future use. It is not currently utilized in the HTTP protocol. The expected purpose is for indicating that payment is required to access the requested resource\n\n**HTTP_403_FORBIDDEN**:\nIndicates that the server understood the request, but refuses to authorize it.\n\n**HTTP_404_NOT_FOUND**:\nIndicates that the requested resource could not be found on the server.\n\n**HTTP_405_METHOD_NOT_ALLOWED**:\nIndicates that the request method (GET, POST, PUT, DELETE, etc.) is not allowed for the specified resource.\n\n\n*******************************************************************************************************************************************************************\n# Server Error - 5xx\n\n**HTTP_500_INTERNAL_SERVER_ERROR**:\nIndicates a generic server error. It's a catch-all status for unexpected server errors.\n\n**HTTP_502_BAD_GATEWAY**:\nThis status code indicates that a server acting as a gateway or proxy received an invalid response from an upstream server. In simpler terms, it suggests that there was a problem with the server, such as it being down or not functioning correctly, when trying to fulfill the request.\n\n**HTTP_504_GATEWAY_TIMEOUT**:\nIndicates that the server acting as a gateway did not receive a timely response from an upstream server.",
      "metadata": {}
    },
    {
      "cell_type": "code",
      "source": "",
      "metadata": {
        "trusted": true
      },
      "outputs": [],
      "execution_count": null
    }
  ]
}