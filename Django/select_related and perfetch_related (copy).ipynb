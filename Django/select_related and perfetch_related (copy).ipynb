{
  "metadata": {
    "kernelspec": {
      "name": "python",
      "display_name": "Python (Pyodide)",
      "language": "python"
    },
    "language_info": {
      "codemirror_mode": {
        "name": "python",
        "version": 3
      },
      "file_extension": ".py",
      "mimetype": "text/x-python",
      "name": "python",
      "nbconvert_exporter": "python",
      "pygments_lexer": "ipython3",
      "version": "3.8"
    },
    "widgets": {
      "application/vnd.jupyter.widget-state+json": {
        "version_major": 2,
        "version_minor": 0,
        "state": {}
      }
    }
  },
  "nbformat_minor": 4,
  "nbformat": 4,
  "cells": [
    {
      "cell_type": "markdown",
      "source": "# __select_related and prefetch_related__",
      "metadata": {}
    },
    {
      "cell_type": "code",
      "source": "class Author(models.Model):\n    name = models.CharField(max_length=100)\n\nclass Book(models.Model):\n    title = models.CharField(max_length=200)\n    author = models.ForeignKey(Author, on_delete=models.CASCADE, related_name='books')\n",
      "metadata": {
        "trusted": true
      },
      "outputs": [],
      "execution_count": null
    },
    {
      "cell_type": "markdown",
      "source": "# select_related\n\nSelect_related is a method in Django that is used to perform a **SQL join** and include the fields of the related object in the SELECT statement. It is used for ForeignKey and OneToOneField relationships to fetch related objects in a single query, reducing the number of database queries.",
      "metadata": {}
    },
    {
      "cell_type": "code",
      "source": "# Without select_related\nbooks = Book.objects.filter(author__name='John Doe')\n\n# SQL term\n\n-- Without select_related\n\nSELECT * FROM author WHERE name='John Doe';\n\n-- Resulting author IDs are used in the next query\n\nSELECT * FROM book WHERE author_id IN (author_id1, author_id2, ...);\n",
      "metadata": {
        "trusted": true
      },
      "outputs": [],
      "execution_count": null
    },
    {
      "cell_type": "code",
      "source": "# With select_related\nbooks = Book.objects.select_related('author').filter(author__name='John Doe')\n\n-- With select_related\n\nSELECT * FROM book\nJOIN author ON book.author_id = author.id\nWHERE author.name='John Doe';\n",
      "metadata": {
        "trusted": true
      },
      "outputs": [],
      "execution_count": null
    },
    {
      "cell_type": "markdown",
      "source": "# prefetch_related:\n\nprefetch_related is used to fetch related objects in a separate query and does the \"joining\" in Python. It is more suitable for ManyToManyField relationships or reverse ForeignKey relationships.",
      "metadata": {}
    },
    {
      "cell_type": "code",
      "source": "# Without prefetch_related\nauthors = Author.objects.all()\nfor author in authors:\n    books = author.book_set.all()\n\n# SQL term\n-- Fetch all authors\n\nSELECT * FROM author;\n\n-- For each author, fetch their books individually\n\nSELECT * FROM book WHERE author_id = author_id1;\nSELECT * FROM book WHERE author_id = author_id2;\n-- ... and so on\n\n",
      "metadata": {
        "trusted": true
      },
      "outputs": [],
      "execution_count": null
    },
    {
      "cell_type": "code",
      "source": "# With prefetch_related\nauthors = Author.objects.prefetch_related('books').all()\nfor author in authors:\n    books = author.books.all()\n\n# SQL term\n-- Fetch all authors and prefetch their books\n\nSELECT * FROM author;\n\n-- Fetch all books related to the fetched authors in a single query\n\n\nSELECT * FROM book WHERE author_id IN (author_id1, author_id2, ...);\n",
      "metadata": {
        "trusted": true
      },
      "outputs": [],
      "execution_count": null
    }
  ]
}