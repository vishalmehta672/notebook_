{
  "metadata": {
    "kernelspec": {
      "name": "python",
      "display_name": "Python (Pyodide)",
      "language": "python"
    },
    "language_info": {
      "codemirror_mode": {
        "name": "python",
        "version": 3
      },
      "file_extension": ".py",
      "mimetype": "text/x-python",
      "name": "python",
      "nbconvert_exporter": "python",
      "pygments_lexer": "ipython3",
      "version": "3.8"
    },
    "widgets": {
      "application/vnd.jupyter.widget-state+json": {
        "version_major": 2,
        "version_minor": 0,
        "state": {}
      }
    }
  },
  "nbformat_minor": 4,
  "nbformat": 4,
  "cells": [
    {
      "cell_type": "markdown",
      "source": "**Time complexity**",
      "metadata": {}
    },
    {
      "cell_type": "raw",
      "source": "Time complexity is a measure of the amount of time an algorithm takes to complete as a function of the size of its input. It is commonly expressed using big O notation, which describes the upper bound on the growth rate of the algorithm's running time.\n\nFor example, if an algorithm has a time complexity of O(n), it means that the running time of the algorithm grows linearly with the size of the input (n). If an algorithm has a time complexity of O(n^2), it means that the running time grows quadratically with the size of the input.\n\nHere are some common time complexities:\n\n*   O(1) - Constant time complexity. The running time of the algorithm remains constant regardless of the size of the input.\n\n*   O(n) - Linear time complexity. The running time is directly proportional to the size of the input.\n\n*   O(log n) - Logarithmic time complexity. Common in algorithms that divide the input in half at each step, such as binary search.\n\n*   O(n log n) - Linearithmic time complexity. Common in efficient sorting algorithms like merge sort and quicksort.\n\n*   O(n^2) - Quadratic time complexity. The running time is proportional to the square of the size of the input.\n\n*   O(2^n) - Exponential time complexity. The running time grows exponentially with the size of the input.\n\nIt's generally desirable to design algorithms with lower time complexity, as they are more efficient, especially for large inputs. However, time complexity is not the only factor to consider; space complexity, ease of implementation, and other factors are also important in algorithm design.",
      "metadata": {}
    },
    {
      "cell_type": "code",
      "source": "",
      "metadata": {
        "trusted": true
      },
      "outputs": [],
      "execution_count": null
    }
  ]
}