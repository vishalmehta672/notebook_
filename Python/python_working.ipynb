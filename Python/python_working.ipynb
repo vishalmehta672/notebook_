{
  "metadata": {
    "kernelspec": {
      "name": "python",
      "display_name": "Python (Pyodide)",
      "language": "python"
    },
    "language_info": {
      "codemirror_mode": {
        "name": "python",
        "version": 3
      },
      "file_extension": ".py",
      "mimetype": "text/x-python",
      "name": "python",
      "nbconvert_exporter": "python",
      "pygments_lexer": "ipython3",
      "version": "3.8"
    },
    "widgets": {
      "application/vnd.jupyter.widget-state+json": {
        "version_major": 2,
        "version_minor": 0,
        "state": {}
      }
    }
  },
  "nbformat_minor": 4,
  "nbformat": 4,
  "cells": [
    {
      "cell_type": "raw",
      "source": "**How is Python Source Code Converted into Executable Code**",
      "metadata": {}
    },
    {
      "cell_type": "markdown",
      "source": "Step 1: The Python compiler reads a Python source code or instruction in the code editor. In this first stage, the execution of the code starts.\nStep 2: After writing Python code it is then saved as a .py file in our system. In this, there are instructions written by a Python script for the system.\nStep 3: In this the compilation stage comes in which source code is converted into a byte code. Python compiler also checks the syntax error in this step and generates a .pyc file.\nStep 4: Byte code that is .pyc file is then sent to the Python Virtual Machine(PVM) which is the Python interpreter. PVM converts the Python byte code into machine-executable code\nand in this interpreter reads and executes the given file line by line. If an error occurs during this interpretation then the conversion is halted with an error message.\nStep 5: Within the PVM the bytecode is converted into machine code that is the binary language consisting of 0’s and 1’s. This binary language is only understandable by the\nCPU of the system as it is highly optimized for the machine code.\nStep 6: In the last step, the final execution occurs where the CPU executes the machine code and the final desired output \nwill come as according to your program.",
      "metadata": {}
    },
    {
      "cell_type": "markdown",
      "source": "",
      "metadata": {}
    },
    {
      "cell_type": "code",
      "source": "",
      "metadata": {
        "trusted": true
      },
      "outputs": [],
      "execution_count": null
    },
    {
      "cell_type": "code",
      "source": "",
      "metadata": {
        "trusted": true
      },
      "outputs": [],
      "execution_count": null
    }
  ]
}