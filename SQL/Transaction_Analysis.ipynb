{
  "metadata": {
    "kernelspec": {
      "name": "python",
      "display_name": "Python (Pyodide)",
      "language": "python"
    },
    "language_info": {
      "codemirror_mode": {
        "name": "python",
        "version": 3
      },
      "file_extension": ".py",
      "mimetype": "text/x-python",
      "name": "python",
      "nbconvert_exporter": "python",
      "pygments_lexer": "ipython3",
      "version": "3.8"
    },
    "widgets": {
      "application/vnd.jupyter.widget-state+json": {
        "version_major": 2,
        "version_minor": 0,
        "state": {}
      }
    }
  },
  "nbformat_minor": 4,
  "nbformat": 4,
  "cells": [
    {
      "cell_type": "markdown",
      "source": "**TRANSACTION**",
      "metadata": {
        "editable": true,
        "slideshow": {
          "slide_type": ""
        }
      }
    },
    {
      "cell_type": "raw",
      "source": "In SQL, a transaction is a sequence of one or more SQL statements that are executed as a single unit of work. The primary purpose of a transaction is to ensure the consistency and integrity of a database. Transactions follow the ACID properties:\n\nAtomicity: All changes within a transaction are treated as a single, indivisible unit. If any part of the transaction fails, the entire transaction is rolled back, ensuring that the database remains in a consistent state.\n\nConsistency: A transaction brings the database from one consistent state to another. It ensures that the database remains in a valid state according to the defined rules and constraints.\n\nIsolation: Transactions are executed in isolation from each other. The changes made by one transaction are not visible to other transactions until the first transaction is committed.\n\nDurability: Once a transaction is committed, its changes are permanent and survive any subsequent system failures. The changes are stored in the database and remain intact.\n\nIn SQL, you typically use the BEGIN TRANSACTION, COMMIT, and ROLLBACK statements to control transactions. The BEGIN TRANSACTION statement marks the beginning of a transaction, COMMIT commits the changes made during the transaction, and ROLLBACK undoes the changes and aborts the transaction.",
      "metadata": {}
    },
    {
      "cell_type": "code",
      "source": "'''basic structure of a transaction in SQL'''\n\nBEGIN TRANSACTION;\n\n-- SQL statements (INSERT, UPDATE, DELETE, etc.)\n\n-- If everything is successful, commit the transaction\nCOMMIT;\n\n-- If there's an issue or error, roll back the transaction\nROLLBACK;\n",
      "metadata": {
        "trusted": true,
        "scrolled": true
      },
      "outputs": [],
      "execution_count": null
    },
    {
      "cell_type": "code",
      "source": "-- Begin the transaction\nBEGIN TRANSACTION;\n\n-- Deduct $100 from Account A\nUPDATE accounts\nSET    balance = balance - 100\nWHERE  accountnumber = 'A';\n\n-- Add $100 to Account B\nUPDATE accounts\nSET    balance = balance + 100\nWHERE  accountnumber = 'B';\n\n-- Commit the transaction\nCOMMIT; ",
      "metadata": {
        "trusted": true
      },
      "outputs": [],
      "execution_count": null
    },
    {
      "cell_type": "raw",
      "source": "In this example:\n\n**BEGIN TRANSACTION** : Marks the start of the transaction.\nTwo UPDATE statements: Deduct $100 from Account A and add $100 to Account B. These changes are treated as a single unit of work within the transaction.\n**COMMIT**: If both UPDATE statements succeed without errors, the COMMIT statement is executed to make the changes permanent in the database.\nIf an error occurs at any point within the transaction, you might issue a ROLLBACK to undo any changes made since the BEGIN TRANSACTION statement, ensuring the database remains in a consistent state.",
      "metadata": {}
    },
    {
      "cell_type": "code",
      "source": "-- Begin the transaction\nBEGIN TRANSACTION;\n\n-- Deduct $100 from Account A\nUPDATE Accounts\nSET Balance = Balance - 100\nWHERE AccountNumber = 'A';\n\n-- Simulate an error (e.g., division by zero)\n-- This would cause the transaction to fail\n-- and trigger a ROLLBACK\nSELECT 1 / 0;\n\n-- Add $100 to Account B\n-- This part won't be executed due to the error above\nUPDATE Accounts\nSET Balance = Balance + 100\nWHERE AccountNumber = 'B';\n\n-- This line won't be reached due to the error, but just to show\n-- how you would normally commit the transaction\nCOMMIT;\n",
      "metadata": {
        "trusted": true
      },
      "outputs": [],
      "execution_count": null
    },
    {
      "cell_type": "raw",
      "source": "",
      "metadata": {}
    }
  ]
}