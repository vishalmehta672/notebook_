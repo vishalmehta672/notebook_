{
  "metadata": {
    "kernelspec": {
      "name": "python",
      "display_name": "Python (Pyodide)",
      "language": "python"
    },
    "language_info": {
      "codemirror_mode": {
        "name": "python",
        "version": 3
      },
      "file_extension": ".py",
      "mimetype": "text/x-python",
      "name": "python",
      "nbconvert_exporter": "python",
      "pygments_lexer": "ipython3",
      "version": "3.8"
    },
    "widgets": {
      "application/vnd.jupyter.widget-state+json": {
        "version_major": 2,
        "version_minor": 0,
        "state": {}
      }
    }
  },
  "nbformat_minor": 4,
  "nbformat": 4,
  "cells": [
    {
      "cell_type": "markdown",
      "source": "__cascading__",
      "metadata": {}
    },
    {
      "cell_type": "raw",
      "source": "\nIn the context of databases and SQL (Structured Query Language), a \"cascade\" typically refers to the cascading effects of certain operations on related tables when using foreign key constraints. Foreign key constraints are used to enforce referential integrity between tables in a relational database.\n\nThere are two main types of cascading actions associated with foreign key constraints: ON DELETE and ON UPDATE. These actions define what should happen when a referenced row in the parent table is either deleted or updated.\n\nHere are the common options for cascading actions:\n\nCASCADE:\nON DELETE CASCADE: If a row in the parent table is deleted, all corresponding rows in the child table will be automatically deleted as well.\nON UPDATE CASCADE: If a primary key value in the parent table is updated, all corresponding foreign key values in the child table will be automatically updated.\n\n\nSET NULL:\nON DELETE SET NULL: If a row in the parent table is deleted, the foreign key values in the child table will be set to NULL.\nON UPDATE SET NULL: If a primary key value in the parent table is updated, the corresponding foreign key values in the child table will be set to NULL.\n\n\nSET DEFAULT:\nON DELETE SET DEFAULT: Similar to SET NULL, but instead of setting the foreign key values to NULL, they are set to their default values.\nON UPDATE SET DEFAULT: Similar to SET NULL, but instead of setting the foreign key values to NULL, they are set to their default values.\n\n\nNO ACTION / RESTRICT:\nON DELETE NO ACTION or ON DELETE RESTRICT: The default behavior. If there are dependent rows in the child table, the operation in the parent table is not allowed.\nON UPDATE NO ACTION or ON UPDATE RESTRICT: The same as ON DELETE NO ACTION or ON DELETE RESTRICT, but for updates.\n\nHere's an example of creating a table with a foreign key constraint that includes cascading actions:",
      "metadata": {}
    },
    {
      "cell_type": "code",
      "source": "CREATE TABLE parent_table (\n    parent_id INT PRIMARY KEY\n);\n\nCREATE TABLE child_table (\n    child_id INT PRIMARY KEY,\n    parent_id INT,\n    FOREIGN KEY (parent_id) REFERENCES parent_table(parent_id)\n        ON DELETE CASCADE\n        ON UPDATE SET NULL\n);\n",
      "metadata": {
        "trusted": true
      },
      "outputs": [],
      "execution_count": null
    },
    {
      "cell_type": "raw",
      "source": "In this example, if a row in parent_table is deleted, all corresponding rows in child_table will be deleted (ON DELETE CASCADE). If a parent_id in parent_table is updated, the corresponding parent_id values in child_table will be set to NULL (ON UPDATE SET NULL).",
      "metadata": {}
    }
  ]
}