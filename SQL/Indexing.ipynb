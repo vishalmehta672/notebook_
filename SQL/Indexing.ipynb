{
  "metadata": {
    "kernelspec": {
      "name": "SQLite",
      "display_name": "SQLite",
      "language": "sql"
    },
    "language_info": {
      "codemirror_mode": "sql",
      "file_extension": "",
      "mimetype": "",
      "name": "sql",
      "version": "3.32.3"
    },
    "widgets": {
      "application/vnd.jupyter.widget-state+json": {
        "version_major": 2,
        "version_minor": 0,
        "state": {}
      }
    }
  },
  "nbformat_minor": 4,
  "nbformat": 4,
  "cells": [
    {
      "cell_type": "markdown",
      "source": "__Indexing__",
      "metadata": {}
    },
    {
      "cell_type": "raw",
      "source": "Indexing is a database optimization technique used to improve the speed of data retrieval operations on database tables. An index is a data structure that provides a quick and efficient way to look up rows in a table based on the values in one or more columns. Here are some key points about indexing:\n\nPurpose of Indexing:\n\nAccelerate the data retrieval process by creating a structure that allows the database engine to locate and access rows more quickly.\nTypes of Indexes:\n\nPrimary Index: A unique index used to enforce the primary key constraint. It is automatically created when defining a primary key.\nSecondary Index: An index created on columns other than the primary key to enhance search performance.\nComposite Index: An index created on multiple columns to speed up queries involving those columns.\n\n",
      "metadata": {}
    },
    {
      "cell_type": "code",
      "source": "Creating an Index:\n\nCREATE INDEX index_name ON table_name (column1, column2);\n\nExample: CREATE INDEX idx_lastname ON Employees(LastName);",
      "metadata": {
        "trusted": true
      },
      "outputs": [],
      "execution_count": null
    },
    {
      "cell_type": "raw",
      "source": "How Indexing Works:\n\nWhen a query is executed, the database engine uses the index to quickly locate the rows that satisfy the conditions in the WHERE clause.\nTrade-Offs:\n\nWhile indexes speed up data retrieval, they come with trade-offs. Indexes consume disk space and can slow down write operations (INSERT, UPDATE, DELETE) because the index must be updated.\n\nWhen to Use Indexing:\n\nUse indexes on columns frequently used in WHERE clauses.\nConsider indexing columns involved in JOIN operations.\nBe cautious about over-indexing, as it may lead to increased storage requirements and maintenance overhead.\n",
      "metadata": {}
    },
    {
      "cell_type": "code",
      "source": "Examples:\n\nCreating a simple index:\n\n    CREATE INDEX idx_lastname ON Employees(LastName);\n\nCreating a composite index:\n\n    CREATE INDEX idx_name_dept ON Employees(LastName, DepartmentID);\n\nDropping an Index:\n\n    DROP INDEX index_name ON table_name;\n\nExample of a simple table creation with an index:\n\n        CREATE TABLE Employee (\n        EmployeeID INT PRIMARY KEY,\n        FirstName VARCHAR(50),\n        LastName VARCHAR(50),\n        Salary INT\n        );\n    \n        CREATE INDEX idx_LastName ON Employee (LastName);\n\nIn this example, an index named idx_LastName is created on the LastName column of the Employee table. This index would improve the retrieval speed of queries that involve searching or sorting based on the LastName column.\n",
      "metadata": {
        "trusted": true
      },
      "outputs": [],
      "execution_count": null
    },
    {
      "cell_type": "raw",
      "source": "\nIndexes in a database enhance speed by creating an organized structure that facilitates rapid data retrieval. When a query is executed, indexes allow the database engine to quickly pinpoint and access specific rows, minimizing the need for a full table scan. This efficiency is particularly noticeable in queries involving filtering conditions, sorting, and joining tables. Indexes reduce disk I/O, leading to faster data access, as the database engine can swiftly navigate to the relevant data subset. By optimizing query execution plans, indexes contribute to overall performance improvements, making database operations more responsive and scalable. While offering these advantages, it's crucial to balance the benefits with the potential trade-offs in terms of disk space usage and update performance.",
      "metadata": {}
    },
    {
      "cell_type": "markdown",
      "source": "**B-tree indexing**",
      "metadata": {}
    },
    {
      "cell_type": "raw",
      "source": "The B-tree indexing method is a widely used data structure in database systems to organize and store keys in a sorted order for efficient search, insertion, and deletion operations. B-tree stands for \"Balanced Tree,\" and it ensures that the tree remains balanced, providing predictable and efficient access times.",
      "metadata": {}
    },
    {
      "cell_type": "raw",
      "source": "CREATE INDEX idx_lastname ON public.employee USING btree (lastname);\nThe search operation in a B+ tree starts from the root and moves down the tree, comparing keys until the target key is found or the appropriate leaf node is reached.",
      "metadata": {}
    },
    {
      "cell_type": "markdown",
      "source": "__Cluster Index__",
      "metadata": {}
    },
    {
      "cell_type": "markdown",
      "source": "**Clustering**:\n\nPurpose: Clustering refers to the physical arrangement of data rows in a table based on the order of a clustered index. Unlike other types of indexes that store a separate data structure, a clustered index determines the actual order of data on disk.\nClustered Index:\nWhen a table has a clustered index, the rows are organized on the disk in the same order as the index.\nA table can have only one clustered index.\nIf no clustered index is defined, the data rows are stored in an unordered heap.\nNow, let's talk about \"SQL indexing clustering\" If you mean to discuss how indexing and clustering work together, it's important to note that not all indexes are clustered. In fact, a table can have only one clustered index, and it determines the physical order of the data rows.\n\nHere's an example of creating a table with a clustered index in SQL:",
      "metadata": {}
    },
    {
      "cell_type": "code",
      "source": "CREATE TABLE Books (\n    ISBN VARCHAR(13) PRIMARY KEY,\n    Title VARCHAR(255),\n    Author VARCHAR(100),\n    Genre VARCHAR(50),\n    Price DECIMAL(10, 2)\n);\n\n-- Insert some example records\nINSERT INTO Books (ISBN, Title, Author, Genre, Price)\nVALUES\n    ('79', 'To Kill a Mockingbird', 'Harper Lee', 'Fiction', 12.99),\n    ('84', 'Abc', 'George Orwell', 'Dystopian', 9.99),\n    ('947', 'The Girl with the Dragon Tattoo', 'Stieg Larsson', 'Mystery', 15.95),\n    ('978', 'Where the Wild Things Are', 'Maurice Sendak', 'Children', 8.49),\n    ('9', 'Pride and Prejudice', 'Jane Austen', 'Romance', 10.50);\n",
      "metadata": {
        "trusted": true
      },
      "outputs": [],
      "execution_count": null
    },
    {
      "cell_type": "code",
      "source": "-- Create an index on the Genre column\nCREATE INDEX genre_index ON Books(Genre);\n\n-- -- Cluster the table based on the genre_index\nCLUSTER Books USING genre_index;\n\n-- -- Select all records from the Books table\nSELECT * FROM Books;",
      "metadata": {
        "trusted": true
      },
      "outputs": [],
      "execution_count": null
    },
    {
      "cell_type": "code",
      "source": "",
      "metadata": {
        "trusted": true
      },
      "outputs": [],
      "execution_count": null
    }
  ]
}